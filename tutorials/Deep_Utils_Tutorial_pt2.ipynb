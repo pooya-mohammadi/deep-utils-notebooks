{
  "cells": [
    {
      "cell_type": "markdown",
      "metadata": {
        "id": "view-in-github",
        "colab_type": "text"
      },
      "source": [
        "<a href=\"https://colab.research.google.com/github/pejmanS21/deep-utils-notebooks/blob/main/Deep_Utils_Tutorial_pt2.ipynb\" target=\"_parent\"><img src=\"https://colab.research.google.com/assets/colab-badge.svg\" alt=\"Open In Colab\"/></a>"
      ]
    },
    {
      "cell_type": "markdown",
      "source": [
        "# deep_utils\n",
        "### Tutorial pt.2"
      ],
      "metadata": {
        "id": "YSsevf6thQoS"
      }
    },
    {
      "cell_type": "markdown",
      "source": [
        "## Download deep_utils library"
      ],
      "metadata": {
        "id": "-dzwNkC0hFGS"
      }
    },
    {
      "cell_type": "code",
      "execution_count": null,
      "metadata": {
        "colab": {
          "base_uri": "https://localhost:8080/"
        },
        "id": "ne_C9DtmZLVk",
        "outputId": "18ecdca2-2c94-46bc-c031-da17ecb3e619"
      },
      "outputs": [
        {
          "output_type": "stream",
          "name": "stdout",
          "text": [
            "Collecting deep_utils\n",
            "  Downloading deep_utils-0.8.25-py3-none-any.whl (248 kB)\n",
            "\u001b[K     |████████████████████████████████| 248 kB 4.3 MB/s \n",
            "\u001b[?25hCollecting requests>=2.27.1\n",
            "  Downloading requests-2.27.1-py2.py3-none-any.whl (63 kB)\n",
            "\u001b[K     |████████████████████████████████| 63 kB 1.3 MB/s \n",
            "\u001b[?25hRequirement already satisfied: tqdm>=4.62.3 in /usr/local/lib/python3.7/dist-packages (from deep_utils) (4.63.0)\n",
            "Requirement already satisfied: numpy>=1.21.0 in /usr/local/lib/python3.7/dist-packages (from deep_utils) (1.21.5)\n",
            "Requirement already satisfied: urllib3<1.27,>=1.21.1 in /usr/local/lib/python3.7/dist-packages (from requests>=2.27.1->deep_utils) (1.24.3)\n",
            "Requirement already satisfied: charset-normalizer~=2.0.0 in /usr/local/lib/python3.7/dist-packages (from requests>=2.27.1->deep_utils) (2.0.12)\n",
            "Requirement already satisfied: idna<4,>=2.5 in /usr/local/lib/python3.7/dist-packages (from requests>=2.27.1->deep_utils) (2.10)\n",
            "Requirement already satisfied: certifi>=2017.4.17 in /usr/local/lib/python3.7/dist-packages (from requests>=2.27.1->deep_utils) (2021.10.8)\n",
            "Installing collected packages: requests, deep-utils\n",
            "  Attempting uninstall: requests\n",
            "    Found existing installation: requests 2.23.0\n",
            "    Uninstalling requests-2.23.0:\n",
            "      Successfully uninstalled requests-2.23.0\n",
            "\u001b[31mERROR: pip's dependency resolver does not currently take into account all the packages that are installed. This behaviour is the source of the following dependency conflicts.\n",
            "google-colab 1.0.0 requires requests~=2.23.0, but you have requests 2.27.1 which is incompatible.\n",
            "datascience 0.10.6 requires folium==0.2.1, but you have folium 0.8.3 which is incompatible.\u001b[0m\n",
            "Successfully installed deep-utils-0.8.25 requests-2.27.1\n"
          ]
        }
      ],
      "source": [
        "!pip install -U deep_utils"
      ]
    },
    {
      "cell_type": "markdown",
      "source": [
        "## download image from web for testing"
      ],
      "metadata": {
        "id": "n4DHO9rYhNAE"
      }
    },
    {
      "cell_type": "code",
      "execution_count": null,
      "metadata": {
        "colab": {
          "base_uri": "https://localhost:8080/"
        },
        "id": "ZOBl9A2ydj3_",
        "outputId": "5db7b4ff-8581-4a9d-8f74-dde9d6f21bcb"
      },
      "outputs": [
        {
          "output_type": "stream",
          "name": "stdout",
          "text": [
            "--2022-03-30 12:44:43--  https://upload.wikimedia.org/wikipedia/en/a/a0/Grogu_%28Star_Wars%29.jpg\n",
            "Resolving upload.wikimedia.org (upload.wikimedia.org)... 103.102.166.240, 2001:df2:e500:ed1a::2:b\n",
            "Connecting to upload.wikimedia.org (upload.wikimedia.org)|103.102.166.240|:443... connected.\n",
            "HTTP request sent, awaiting response... 200 OK\n",
            "Length: 33307 (33K) [image/jpeg]\n",
            "Saving to: ‘Grogu_(Star_Wars).jpg’\n",
            "\n",
            "Grogu_(Star_Wars).j 100%[===================>]  32.53K  --.-KB/s    in 0.05s   \n",
            "\n",
            "2022-03-30 12:44:44 (679 KB/s) - ‘Grogu_(Star_Wars).jpg’ saved [33307/33307]\n",
            "\n"
          ]
        }
      ],
      "source": [
        "!wget https://upload.wikimedia.org/wikipedia/en/a/a0/Grogu_%28Star_Wars%29.jpg"
      ]
    },
    {
      "cell_type": "markdown",
      "source": [
        "## Tutorial pt.2"
      ],
      "metadata": {
        "id": "AcMP5LM0hyVx"
      }
    },
    {
      "cell_type": "markdown",
      "source": [
        "### import necessary libraries"
      ],
      "metadata": {
        "id": "3KLp1iSth_VR"
      }
    },
    {
      "cell_type": "code",
      "execution_count": null,
      "metadata": {
        "id": "vOzjJ_qvnWqw"
      },
      "outputs": [],
      "source": [
        "import torch\n",
        "import tensorflow as tf\n",
        "import cv2\n",
        "import numpy as np\n",
        "from PIL import Image\n",
        "import matplotlib.pyplot as plt"
      ]
    },
    {
      "cell_type": "markdown",
      "source": [
        "### BlocksTorch\n",
        "easy way to create deep learning models for PyTorch \n",
        "<br> like Convolution blocks, Normalization, Activation and ...\n",
        "```python\n",
        "from deep_utils import BlocksTorch\n",
        "```"
      ],
      "metadata": {
        "id": "b-Bl1gZriDym"
      }
    },
    {
      "cell_type": "code",
      "execution_count": null,
      "metadata": {
        "colab": {
          "base_uri": "https://localhost:8080/"
        },
        "id": "jDnSpoRxag_R",
        "outputId": "61afebd3-7b78-4e46-84fe-b661a51bb1df"
      },
      "outputs": [
        {
          "output_type": "stream",
          "name": "stdout",
          "text": [
            "Downloading https://ultralytics.com/assets/Arial.ttf to /root/.config/Ultralytics/Arial.ttf...\n"
          ]
        }
      ],
      "source": [
        "from deep_utils import BlocksTorch"
      ]
    },
    {
      "cell_type": "markdown",
      "source": [
        "#### Convolution layer"
      ],
      "metadata": {
        "id": "nl2DPMudyf-2"
      }
    },
    {
      "cell_type": "code",
      "source": [
        "conv = BlocksTorch.conv_norm_act(3, 32, k=(3, 3), s=(1, 1), p=(1, 1),\n",
        "                      norm='bn', act='relu', conv=True, index=0,\n",
        "                      pooling='max', pooling_k=(2, 2), pooling_s=(2, 2), move_forward=0)\n",
        "\n",
        "print(conv)"
      ],
      "metadata": {
        "colab": {
          "base_uri": "https://localhost:8080/"
        },
        "id": "ZILDSuFCudJC",
        "outputId": "cf954709-272f-46d8-a7a4-7b11a126f7ce"
      },
      "execution_count": null,
      "outputs": [
        {
          "output_type": "stream",
          "name": "stdout",
          "text": [
            "Sequential(\n",
            "  (conv2d_0_in3_f32_k3_s1): Conv2d(3, 32, kernel_size=(3, 3), stride=(1, 1), padding=(1, 1))\n",
            "  (bn2d_0): BatchNorm2d(32, eps=1e-05, momentum=0.1, affine=True, track_running_stats=True)\n",
            "  (relu_0): ReLU()\n",
            "  (max2d_0): MaxPool2d(kernel_size=(2, 2), stride=(2, 2), padding=0, dilation=1, ceil_mode=False)\n",
            ")\n"
          ]
        }
      ]
    },
    {
      "cell_type": "markdown",
      "source": [
        "#### input and output"
      ],
      "metadata": {
        "id": "YTPhey_Yym_M"
      }
    },
    {
      "cell_type": "code",
      "source": [
        "x = torch.randn(1, 3, 256, 256)\n",
        "\n",
        "y = conv(x)\n",
        "\n",
        "print(x.size(), y.size())"
      ],
      "metadata": {
        "colab": {
          "base_uri": "https://localhost:8080/"
        },
        "id": "4S9N_ItBtN2I",
        "outputId": "9443ecf8-39db-4509-add2-bbc35c63b19f"
      },
      "execution_count": null,
      "outputs": [
        {
          "output_type": "stream",
          "name": "stdout",
          "text": [
            "torch.Size([1, 3, 256, 256]) torch.Size([1, 32, 128, 128])\n"
          ]
        }
      ]
    },
    {
      "cell_type": "markdown",
      "source": [
        "#### pooling layer"
      ],
      "metadata": {
        "id": "AdhmmEWAyx6Q"
      }
    },
    {
      "cell_type": "code",
      "execution_count": null,
      "metadata": {
        "colab": {
          "base_uri": "https://localhost:8080/"
        },
        "id": "VbZeUIhMeGWu",
        "outputId": "469e5bfe-ba2f-4722-f57f-27fffa452a39"
      },
      "outputs": [
        {
          "output_type": "stream",
          "name": "stdout",
          "text": [
            "AvgPool2d(kernel_size=(2, 2), stride=(2, 2), padding=0)\n"
          ]
        }
      ],
      "source": [
        "pool_layer = BlocksTorch.load_pooling('avg', k=(2, 2), s=(2, 2))\n",
        "\n",
        "print(pool_layer)"
      ]
    },
    {
      "cell_type": "markdown",
      "source": [
        "#### input and output"
      ],
      "metadata": {
        "id": "Rzo3oQ2ryrc_"
      }
    },
    {
      "cell_type": "code",
      "source": [
        "y = pool_layer(x)\n",
        "\n",
        "print(x.size(), y.size())"
      ],
      "metadata": {
        "colab": {
          "base_uri": "https://localhost:8080/"
        },
        "id": "1sypFIS7u9eK",
        "outputId": "f78353e4-fa48-41c5-b80a-78abf8752144"
      },
      "execution_count": null,
      "outputs": [
        {
          "output_type": "stream",
          "name": "stdout",
          "text": [
            "torch.Size([1, 3, 256, 256]) torch.Size([1, 3, 128, 128])\n"
          ]
        }
      ]
    },
    {
      "cell_type": "markdown",
      "source": [
        "#### activation layer"
      ],
      "metadata": {
        "id": "_zvFCleazWRB"
      }
    },
    {
      "cell_type": "code",
      "source": [
        "act_layer = BlocksTorch.load_activation(act='leaky_relu')\n",
        "\n",
        "print(act_layer)"
      ],
      "metadata": {
        "colab": {
          "base_uri": "https://localhost:8080/"
        },
        "id": "E_igox0BvHUK",
        "outputId": "735d7c90-d3e9-4778-ef19-d79824a909d0"
      },
      "execution_count": null,
      "outputs": [
        {
          "output_type": "stream",
          "name": "stdout",
          "text": [
            "LeakyReLU(negative_slope=0.01)\n"
          ]
        }
      ]
    },
    {
      "cell_type": "markdown",
      "source": [
        "#### input and output"
      ],
      "metadata": {
        "id": "wijC8v_uysuP"
      }
    },
    {
      "cell_type": "code",
      "source": [
        "y = act_layer(x)\n",
        "\n",
        "print(x.size(), y.size())"
      ],
      "metadata": {
        "colab": {
          "base_uri": "https://localhost:8080/"
        },
        "id": "BYxJS14HvHR0",
        "outputId": "c08507c8-0c0d-4cc0-b87a-fc8b1ef023b8"
      },
      "execution_count": null,
      "outputs": [
        {
          "output_type": "stream",
          "name": "stdout",
          "text": [
            "torch.Size([1, 3, 256, 256]) torch.Size([1, 3, 256, 256])\n"
          ]
        }
      ]
    },
    {
      "cell_type": "markdown",
      "source": [
        "#### Normalization layer"
      ],
      "metadata": {
        "id": "bbdWp2FHzdXa"
      }
    },
    {
      "cell_type": "code",
      "source": [
        "norm_layer = BlocksTorch.load_layer_norm(norm='bn', out_c=3)\n",
        "\n",
        "print(norm_layer)"
      ],
      "metadata": {
        "colab": {
          "base_uri": "https://localhost:8080/"
        },
        "id": "Ky1rj8sovHPn",
        "outputId": "6cd85a9d-8d80-4acb-9be2-d285e539650f"
      },
      "execution_count": null,
      "outputs": [
        {
          "output_type": "stream",
          "name": "stdout",
          "text": [
            "BatchNorm2d(3, eps=1e-05, momentum=0.1, affine=True, track_running_stats=True)\n"
          ]
        }
      ]
    },
    {
      "cell_type": "markdown",
      "source": [
        "#### input and output"
      ],
      "metadata": {
        "id": "ulxrEPl3yt7E"
      }
    },
    {
      "cell_type": "code",
      "source": [
        "y = norm_layer(x)\n",
        "\n",
        "print(x.size(), y.size())"
      ],
      "metadata": {
        "colab": {
          "base_uri": "https://localhost:8080/"
        },
        "id": "6Llz2CsjvHFV",
        "outputId": "ebaf331c-beb7-4028-89d8-c2158c4348d9"
      },
      "execution_count": null,
      "outputs": [
        {
          "output_type": "stream",
          "name": "stdout",
          "text": [
            "torch.Size([1, 3, 256, 256]) torch.Size([1, 3, 256, 256])\n"
          ]
        }
      ]
    },
    {
      "cell_type": "code",
      "source": [
        "res_block = BlocksTorch.res_basic_block(3, 3, False, down_sample=False)\n",
        "\n",
        "print(res_block)"
      ],
      "metadata": {
        "colab": {
          "base_uri": "https://localhost:8080/"
        },
        "id": "0506bH-GvHCA",
        "outputId": "b1cac86a-aa5c-4412-d9d9-b7431601fc99"
      },
      "execution_count": null,
      "outputs": [
        {
          "output_type": "stream",
          "name": "stdout",
          "text": [
            "Sequential(\n",
            "  (cnn_0_in3_f3): Sequential(\n",
            "    (conv2d_0_in3_f3_k3_s1): Conv2d(3, 3, kernel_size=(3, 3), stride=(1, 1), padding=(1, 1), bias=False)\n",
            "    (bn2d_0): BatchNorm2d(3, eps=1e-05, momentum=0.1, affine=True, track_running_stats=True)\n",
            "    (relu_0): ReLU()\n",
            "  )\n",
            "  (cnn_1_in3_f3): Sequential(\n",
            "    (conv2d_0_in3_f3_k3_s1): Conv2d(3, 3, kernel_size=(3, 3), stride=(1, 1), padding=(1, 1), bias=False)\n",
            "    (bn2d_0): BatchNorm2d(3, eps=1e-05, momentum=0.1, affine=True, track_running_stats=True)\n",
            "  )\n",
            ")\n"
          ]
        }
      ]
    },
    {
      "cell_type": "markdown",
      "source": [
        "#### input and output"
      ],
      "metadata": {
        "id": "U3rEZPslyvMq"
      }
    },
    {
      "cell_type": "code",
      "source": [
        "y = res_block(x)\n",
        "\n",
        "print(x.size(), y.size())"
      ],
      "metadata": {
        "colab": {
          "base_uri": "https://localhost:8080/"
        },
        "id": "e_NOBqPKxF29",
        "outputId": "06cae9f6-fe6a-4067-e16b-20ca727ca85a"
      },
      "execution_count": null,
      "outputs": [
        {
          "output_type": "stream",
          "name": "stdout",
          "text": [
            "torch.Size([1, 3, 256, 256]) torch.Size([1, 3, 256, 256])\n"
          ]
        }
      ]
    },
    {
      "cell_type": "markdown",
      "source": [
        "### BlocksTF\n",
        "easy way to create deep learning models for TensorFlow \n",
        "<br> like Convolution blocks, Normalization, Activation and ...\n",
        "```python\n",
        "from deep_utils import BlocksTF\n",
        "```\n"
      ],
      "metadata": {
        "id": "opdmaGdCztfp"
      }
    },
    {
      "cell_type": "code",
      "source": [
        "from deep_utils import BlocksTF"
      ],
      "metadata": {
        "id": "48U326J1wREC"
      },
      "execution_count": null,
      "outputs": []
    },
    {
      "cell_type": "code",
      "source": [
        "conv = BlocksTF.conv_norm_act(64, k=(3, 3), s=(1, 1), p='same',\n",
        "                      norm='bn', act='relu', conv=True, index=0,\n",
        "                      pooling='avg', pooling_k=(2, 2), pooling_s=(2, 2),\n",
        "                      pool_kwargs=None, move_forward=0)\n",
        "\n",
        "conv.build((None, 256, 256, 3))\n",
        "print(conv.summary())"
      ],
      "metadata": {
        "colab": {
          "base_uri": "https://localhost:8080/"
        },
        "id": "SwZVv8_-wQ-_",
        "outputId": "b6a2369f-f761-470a-c588-e33bfbb1fe87"
      },
      "execution_count": null,
      "outputs": [
        {
          "output_type": "stream",
          "name": "stdout",
          "text": [
            "Model: \"sequential\"\n",
            "_________________________________________________________________\n",
            " Layer (type)                Output Shape              Param #   \n",
            "=================================================================\n",
            " conv2d (Conv2D)             (None, 256, 256, 64)      1792      \n",
            "                                                                 \n",
            " batch_normalization (BatchN  (None, 256, 256, 64)     256       \n",
            " ormalization)                                                   \n",
            "                                                                 \n",
            " re_lu (ReLU)                (None, 256, 256, 64)      0         \n",
            "                                                                 \n",
            " average_pooling2d (AverageP  (None, 128, 128, 64)     0         \n",
            " ooling2D)                                                       \n",
            "                                                                 \n",
            "=================================================================\n",
            "Total params: 2,048\n",
            "Trainable params: 1,920\n",
            "Non-trainable params: 128\n",
            "_________________________________________________________________\n",
            "None\n"
          ]
        }
      ]
    }
  ],
  "metadata": {
    "colab": {
      "collapsed_sections": [],
      "name": "Deep_Utils Tutorial pt2.ipynb",
      "provenance": [],
      "authorship_tag": "ABX9TyPKWN+N16XrgP0ugBWkLdSo",
      "include_colab_link": true
    },
    "kernelspec": {
      "display_name": "Python 3",
      "name": "python3"
    },
    "language_info": {
      "name": "python"
    }
  },
  "nbformat": 4,
  "nbformat_minor": 0
}